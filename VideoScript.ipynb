{
 "cells": [
  {
   "attachments": {},
   "cell_type": "markdown",
   "metadata": {},
   "source": [
    "## Helper methods for demonstration"
   ]
  },
  {
   "cell_type": "code",
   "execution_count": 1,
   "metadata": {
    "dotnet_interactive": {
     "language": "csharp"
    },
    "polyglot_notebook": {
     "kernelName": "csharp"
    },
    "vscode": {
     "languageId": "polyglot-notebook"
    }
   },
   "outputs": [],
   "source": [
    "#nullable enable\n",
    "\n",
    "using System.Diagnostics;\n",
    "using System.IO;\n",
    "using System.Runtime.InteropServices;\n",
    "\n",
    "Process CreateInstance(string? username = null)\n",
    "{\n",
    "    //Arguments that are specific to the Java (ChatApp) application.\n",
    "    List<string> appArguments = new();\n",
    "    if (username is not null)\n",
    "    {\n",
    "        appArguments.AddRange(new string[]\n",
    "        {\n",
    "            \"127.0.0.1\",\n",
    "            (8080).ToString(),\n",
    "            username\n",
    "        });\n",
    "    }\n",
    "\n",
    "    //Arguments for the Java runtime process.\n",
    "    List<string> processArguments = new()\n",
    "    {\n",
    "        \"-jar\",\n",
    "        \"\\\"\" + Path.Combine(\n",
    "            Environment.CurrentDirectory,\n",
    "            Path.GetFileName(Environment.CurrentDirectory) + \".jar\") + \"\\\"\",\n",
    "    };\n",
    "    processArguments.AddRange(appArguments);\n",
    "\n",
    "    ProcessStartInfo processStartInfo = new();\n",
    "    processStartInfo.FileName = \"java.exe\";\n",
    "    processStartInfo.Arguments = string.Join(\" \", processArguments);\n",
    "    processStartInfo.WorkingDirectory = Environment.CurrentDirectory;\n",
    "    processStartInfo.UseShellExecute = true; //Cause the console to appear.\n",
    "\n",
    "    Process process = new Process();\n",
    "    process.StartInfo = processStartInfo;\n",
    "    process.Start();\n",
    "\n",
    "    return process;\n",
    "}"
   ]
  },
  {
   "attachments": {},
   "cell_type": "markdown",
   "metadata": {
    "dotnet_interactive": {
     "language": "csharp"
    },
    "polyglot_notebook": {
     "kernelName": "csharp"
    }
   },
   "source": [
    "## A: Scenario Demonstration"
   ]
  },
  {
   "attachments": {},
   "cell_type": "markdown",
   "metadata": {
    "dotnet_interactive": {
     "language": "csharp"
    },
    "polyglot_notebook": {
     "kernelName": "csharp"
    }
   },
   "source": [
    "### 1. Creating a server and three clients"
   ]
  },
  {
   "attachments": {},
   "cell_type": "markdown",
   "metadata": {
    "dotnet_interactive": {
     "language": "csharp"
    },
    "polyglot_notebook": {
     "kernelName": "csharp"
    }
   },
   "source": [
    "Firstly I will create three peers as requested by the scenario. One of these peers will become the coordinator/host, the other two will become clients.\n",
    "\n",
    "For this first example I will use command line arguments to set the options for each peer, I will then later on show creating an instance of the app using the UI.  \n",
    "The command line usage for setting the options is as follows: `<IP> <PORT> <DESIRED_USERNAME>`."
   ]
  },
  {
   "cell_type": "code",
   "execution_count": 70,
   "metadata": {
    "dotnet_interactive": {
     "language": "csharp"
    },
    "polyglot_notebook": {
     "kernelName": "csharp"
    },
    "vscode": {
     "languageId": "polyglot-notebook"
    }
   },
   "outputs": [],
   "source": [
    "CreateInstance(\"Jack\");\n",
    "// CreateInstance(\"Bob\");\n",
    "CreateInstance(\"Bob\");\n",
    "CreateInstance(\"Alice\");"
   ]
  },
  {
   "attachments": {},
   "cell_type": "markdown",
   "metadata": {
    "dotnet_interactive": {
     "language": "csharp"
    },
    "polyglot_notebook": {
     "kernelName": "csharp"
    }
   },
   "source": [
    "### 2. Demonstrate how the coordinator works"
   ]
  },
  {
   "attachments": {},
   "cell_type": "markdown",
   "metadata": {
    "dotnet_interactive": {
     "language": "csharp"
    },
    "polyglot_notebook": {
     "kernelName": "csharp"
    }
   },
   "source": [
    "Next I will briefly demonstrate how the coordinator works, the coordinator, or host as I like to call it, is the peer that is responsible for managing all other peers and relaying messages between them, amongst a few other network related events.\n",
    "\n",
    "The first thing that happens when a client connects is they send a handshake to the host, this handshake holds the desired username that the new peer would like to use, if the username is already taken then the host will add a suffix to the username, additionally the host will assign the new peer a unique ID. This information is then sent back to the new peer at which point all of the other peers are notified of the new peer as well as the new peer requesting the information of all of the other peers.  \n",
    "See [ChatManager.java:419](./src/chat_app/backend/ChatManager.java#L419) for the code that handles the handshake.\n",
    "\n",
    "The host is also responsible for relaying messages between clients, for example when a client wants to message another client, the host will receive a `NetMessage` which contains a `Message` type payload. This payload contains the ID of the client to be messaged and the message itself. The host will then add in an extra field which contains the ID of the client that sent the message, we do this from the host so that the sender can't impersonate another client. The host will then relay all of this information to the client that was messaged.  \n",
    "See [ChatManager.java:618](./src/chat_app/backend/ChatManager.java#L618) for the code that handles relaying messages.\n",
    "\n",
    "Another thing that the host does is send out ping messages to all clients at a set interval, this is used to check if a client has timed-out. If a client doesn't respond with a pong message within a set time then the host will assume that the client has timed-out and will remove the client from the list of peers as well as indicate to the other peers that the client has left.  \n",
    "See [PingPong.java:35](./src/chat_app/backend/PingPong.java#L35) for the code that handles the host ping/pong events."
   ]
  },
  {
   "attachments": {},
   "cell_type": "markdown",
   "metadata": {
    "dotnet_interactive": {
     "language": "csharp"
    },
    "polyglot_notebook": {
     "kernelName": "csharp"
    }
   },
   "source": [
    "### 3. Sending a message from one of the clients and replying back using private and broadcast messaging"
   ]
  },
  {
   "attachments": {},
   "cell_type": "markdown",
   "metadata": {
    "dotnet_interactive": {
     "language": "csharp"
    },
    "polyglot_notebook": {
     "kernelName": "csharp"
    }
   },
   "source": [
    "I will now demonstrate a working example of sending messages between peers using broadcast and private messaging.\n",
    "\n",
    "Starting with broadcast messages, we can see that on my UI we have a tab on the left named \"Global\", this tab is where all of the broadcast messages are displayed. If I send a message in here we can see that all other peers have received the message.  \n",
    "\n",
    "Next, if you wanted to send a private message, you can click on the name of the peer you want to message in the list on the left, this will then change the contents of the chat box to display your message history with that specific peer. If I now write a message and send it we can see that the target peer has gotten a notification next to the sender name indicating that they have an unread message from them. If we click onto the target peer's tab we can see that the message has been received, additionally if we check the other peers we can see that they never received the private message."
   ]
  },
  {
   "attachments": {},
   "cell_type": "markdown",
   "metadata": {
    "dotnet_interactive": {
     "language": "csharp"
    },
    "polyglot_notebook": {
     "kernelName": "csharp"
    }
   },
   "source": [
    "### 4. Disconnecting a peer that is not the coordinator"
   ]
  },
  {
   "attachments": {},
   "cell_type": "markdown",
   "metadata": {
    "dotnet_interactive": {
     "language": "csharp"
    },
    "polyglot_notebook": {
     "kernelName": "csharp"
    }
   },
   "source": [
    "Next I will show what happens when a client peer is disconnected.\n",
    "\n",
    "If I close one of these client windows, we can see that the other two peers have removed the disconnected peer from their list of peers. Additionally, a system message will be logged into each of the peers global chat tab indicating that the peer has disconnected.  \n",
    "Behind the scenes when a client is disconnected, the server will send out a `NetMessage` with a payload type of `Peer` to all other clients. This message will contain a status update about the disconnected peer, in this case the status will be set to `DISCONNECTED`. The other clients will then receive this message and update their list of peers accordingly.  \n",
    "See [ChatManager.java:703](./src/chat_app/backend/ChatManager.java#L703) for the server code that handles the peer status update."
   ]
  },
  {
   "attachments": {},
   "cell_type": "markdown",
   "metadata": {
    "dotnet_interactive": {
     "language": "csharp"
    },
    "polyglot_notebook": {
     "kernelName": "csharp"
    }
   },
   "source": [
    "### 5. Introducing a new client"
   ]
  },
  {
   "attachments": {},
   "cell_type": "markdown",
   "metadata": {
    "dotnet_interactive": {
     "language": "csharp"
    },
    "polyglot_notebook": {
     "kernelName": "csharp"
    }
   },
   "source": [
    "I will now introduce a new client to the network. This time however I will not pass any command line arguments to the app, we can then see how the client would be configured via the startup UI."
   ]
  },
  {
   "cell_type": "code",
   "execution_count": 57,
   "metadata": {
    "dotnet_interactive": {
     "language": "csharp"
    },
    "polyglot_notebook": {
     "kernelName": "csharp"
    },
    "vscode": {
     "languageId": "polyglot-notebook"
    }
   },
   "outputs": [],
   "source": [
    "// CreateInstance(\"Sam\");\n",
    "CreateInstance(); //Configure the instance manually via the UI."
   ]
  },
  {
   "attachments": {},
   "cell_type": "markdown",
   "metadata": {
    "dotnet_interactive": {
     "language": "csharp"
    },
    "polyglot_notebook": {
     "kernelName": "csharp"
    }
   },
   "source": [
    "Similarly to the way we provided the initial server IP address, port number and desired username on the command line, we can provide these values via the UI."
   ]
  },
  {
   "attachments": {},
   "cell_type": "markdown",
   "metadata": {
    "dotnet_interactive": {
     "language": "csharp"
    },
    "polyglot_notebook": {
     "kernelName": "csharp"
    }
   },
   "source": [
    "When a new peer wants to connect to the network, we will search for an existing host at the specified address and port. If the host is found then we will follow the same procedure as before where the client sends a handshake to the server to set it's username and receive a unique ID as well as information about the other peers. And like with the disconnect event we can see that a system message has appeared in the global chat tab of each peer indicating that the new peer has connected.  \n",
    "See [ChatManager.java:340](./src/chat_app/backend/ChatManager.java#L340) for the client code that handles the connection initialization and also see [ChatManager.java:479](./src/chat_app/backend/ChatManager.java#L479) for the client code that handles the handshake response."
   ]
  },
  {
   "attachments": {},
   "cell_type": "markdown",
   "metadata": {
    "dotnet_interactive": {
     "language": "csharp"
    },
    "polyglot_notebook": {
     "kernelName": "csharp"
    }
   },
   "source": [
    "### 6. Disconnecting the coordinator"
   ]
  },
  {
   "attachments": {},
   "cell_type": "markdown",
   "metadata": {
    "dotnet_interactive": {
     "language": "csharp"
    },
    "polyglot_notebook": {
     "kernelName": "csharp"
    }
   },
   "source": [
    "For the last part of this section I will show what happens when the coordinator/host is disconnected.\n",
    "\n",
    "If I close the coordinator window the first thing that we will see happen is each of the clients chat boxes become disabled as well as their peer lists being cleared. A few moments later the chat boxes on each peer will be re-enabled and the peer lists will be populated with the remaining peers.  \n",
    "Behind the scenes what is happening here is that when the server disconnects each of the clients will trigger a restart of the connection process, however we don't clear the peers list yet as we will use this information later during the reconnection process.  \n",
    "The first thing we do during the reconnection is wait for a time between 0 and 1.5 seconds, this time is determined by our own ID. The reason for doing this is to prevent race conditions when multiple clients are trying to reconnect at the same time, while this is not a foolproof method, it greatly reduces the chance of reconnection issues. If I went back and modified the program I would have the coordinator tell all peers who the next host would be before disconnecting, I would then keep this current method for when the coordinator disconnects unexpectedly.  \n",
    "After we have waited for the random amount of time, we will use our old peers list to search for a new host, we use the IP's of each old peer to see if they have a joinable server. If they do then we will connect to them. If we fail to connect to any of the old peers then we fall back to checking the original server IP address that was specified when we first started the application. If we still fail to connect to a server instance then we will start hosting our own server instance and in-turn becoming the new coordinator.  \n",
    "See [ChatManager.java:155](./src/chat_app/backend/ChatManager.java#L155) for the code that handles the reconnection process."
   ]
  },
  {
   "attachments": {},
   "cell_type": "markdown",
   "metadata": {
    "dotnet_interactive": {
     "language": "csharp"
    },
    "polyglot_notebook": {
     "kernelName": "csharp"
    }
   },
   "source": [
    "## B: Implementation Inspection"
   ]
  },
  {
   "attachments": {},
   "cell_type": "markdown",
   "metadata": {
    "dotnet_interactive": {
     "language": "csharp"
    },
    "polyglot_notebook": {
     "kernelName": "csharp"
    }
   },
   "source": [
    "### 1. Design patterns"
   ]
  },
  {
   "attachments": {},
   "cell_type": "markdown",
   "metadata": {
    "dotnet_interactive": {
     "language": "csharp"
    },
    "polyglot_notebook": {
     "kernelName": "csharp"
    }
   },
   "source": [
    "### 2. Modularity/component design"
   ]
  },
  {
   "attachments": {},
   "cell_type": "markdown",
   "metadata": {
    "dotnet_interactive": {
     "language": "csharp"
    },
    "polyglot_notebook": {
     "kernelName": "csharp"
    }
   },
   "source": [
    "### 3. Unit testing"
   ]
  },
  {
   "attachments": {},
   "cell_type": "markdown",
   "metadata": {
    "dotnet_interactive": {
     "language": "csharp"
    },
    "polyglot_notebook": {
     "kernelName": "csharp"
    }
   },
   "source": [
    "## C: Additional points"
   ]
  },
  {
   "attachments": {},
   "cell_type": "markdown",
   "metadata": {
    "dotnet_interactive": {
     "language": "csharp"
    },
    "polyglot_notebook": {
     "kernelName": "csharp"
    }
   },
   "source": [
    "### 1. Additional features"
   ]
  },
  {
   "attachments": {},
   "cell_type": "markdown",
   "metadata": {
    "dotnet_interactive": {
     "language": "csharp"
    },
    "polyglot_notebook": {
     "kernelName": "csharp"
    }
   },
   "source": [
    "### 2. Subjects of interest"
   ]
  }
 ],
 "metadata": {
  "kernelspec": {
   "display_name": ".NET (C#)",
   "language": "C#",
   "name": ".net-csharp"
  },
  "polyglot_notebook": {
   "kernelInfo": {
    "defaultKernelName": "csharp",
    "items": [
     {
      "aliases": [],
      "name": "csharp"
     }
    ]
   }
  }
 },
 "nbformat": 4,
 "nbformat_minor": 2
}
